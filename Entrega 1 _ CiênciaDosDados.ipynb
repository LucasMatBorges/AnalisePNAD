{
 "cells": [
  {
   "cell_type": "markdown",
   "metadata": {},
   "source": [
    "#Dados PNAD - Importar e discretizar coluna V8005 - IDADES\n",
    "\n",
    "Este arquivo mostra como:\n",
    "1. Importar dados de um arquivo txt. Os dados estão separados por espaços e compactados em formato _gzip_ (extensão _gz_)\n",
    "2. Discretizar uma coluna contínua em diversas faixas usando a função _cut()_.\n"
   ]
  },
  {
   "cell_type": "markdown",
   "metadata": {},
   "source": [
    "###Leitura do formato de arquivo"
   ]
  },
  {
   "cell_type": "code",
   "execution_count": 466,
   "metadata": {
    "collapsed": true
   },
   "outputs": [],
   "source": [
    "import pandas as pd"
   ]
  },
  {
   "cell_type": "code",
   "execution_count": 467,
   "metadata": {
    "collapsed": false
   },
   "outputs": [],
   "source": [
    "import os"
   ]
  },
  {
   "cell_type": "code",
   "execution_count": 468,
   "metadata": {
    "collapsed": false
   },
   "outputs": [],
   "source": [
    "dados = pd.read_table(\"pes2013A.txt.gz\", sep=\" \", compression=\"gzip\")"
   ]
  },
  {
   "cell_type": "code",
   "execution_count": 469,
   "metadata": {
    "collapsed": false
   },
   "outputs": [],
   "source": [
    "dados.rename(columns={\"V8005\":\"IDADE\"}, inplace=True)"
   ]
  },
  {
   "cell_type": "code",
   "execution_count": 470,
   "metadata": {
    "collapsed": false
   },
   "outputs": [],
   "source": [
    "bins = list(range(0,121,12))"
   ]
  },
  {
   "cell_type": "code",
   "execution_count": 471,
   "metadata": {
    "collapsed": false
   },
   "outputs": [],
   "source": [
    "coluna_idades = pd.cut(dados.IDADE, bins, include_lowest=True)"
   ]
  },
  {
   "cell_type": "code",
   "execution_count": 472,
   "metadata": {
    "collapsed": true
   },
   "outputs": [],
   "source": [
    "dados[\"FAIXA_IDADES\"] = coluna_idades"
   ]
  },
  {
   "cell_type": "code",
   "execution_count": 473,
   "metadata": {
    "collapsed": true
   },
   "outputs": [],
   "source": [
    "dados_ordenados = dados.sort([\"FAIXA_IDADES\", \"IDADE\"])"
   ]
  },
  {
   "cell_type": "code",
   "execution_count": 474,
   "metadata": {
    "collapsed": false
   },
   "outputs": [
    {
     "data": {
      "text/plain": [
       "1         (36, 48]\n",
       "2         (60, 72]\n",
       "3         (12, 24]\n",
       "4         (12, 24]\n",
       "5         (12, 24]\n",
       "6         (12, 24]\n",
       "7         (48, 60]\n",
       "8         (48, 60]\n",
       "9         (24, 36]\n",
       "10        (12, 24]\n",
       "11         [0, 12]\n",
       "12        (36, 48]\n",
       "13        (24, 36]\n",
       "14         [0, 12]\n",
       "15        (48, 60]\n",
       "16        (12, 24]\n",
       "17        (24, 36]\n",
       "18        (36, 48]\n",
       "19        (24, 36]\n",
       "20        (12, 24]\n",
       "21        (12, 24]\n",
       "22         [0, 12]\n",
       "23        (48, 60]\n",
       "24        (36, 48]\n",
       "25         [0, 12]\n",
       "26        (24, 36]\n",
       "27        (48, 60]\n",
       "28         [0, 12]\n",
       "29        (24, 36]\n",
       "30        (48, 60]\n",
       "            ...   \n",
       "362526     [0, 12]\n",
       "362527    (24, 36]\n",
       "362528    (36, 48]\n",
       "362529     [0, 12]\n",
       "362530     [0, 12]\n",
       "362531     [0, 12]\n",
       "362532    (36, 48]\n",
       "362533    (36, 48]\n",
       "362534    (12, 24]\n",
       "362535    (12, 24]\n",
       "362536    (12, 24]\n",
       "362537    (12, 24]\n",
       "362538    (12, 24]\n",
       "362539    (48, 60]\n",
       "362540    (36, 48]\n",
       "362541    (12, 24]\n",
       "362542    (12, 24]\n",
       "362543    (24, 36]\n",
       "362544    (48, 60]\n",
       "362545    (12, 24]\n",
       "362546    (48, 60]\n",
       "362547    (36, 48]\n",
       "362548     [0, 12]\n",
       "362549    (12, 24]\n",
       "362550    (24, 36]\n",
       "362551    (24, 36]\n",
       "362552     [0, 12]\n",
       "362553     [0, 12]\n",
       "362554    (24, 36]\n",
       "362555     [0, 12]\n",
       "Name: FAIXA_IDADES, dtype: category\n",
       "Categories (10, object): [[0, 12], (12, 24], (24, 36], (36, 48], ..., (72, 84], (84, 96], (96, 108], (108, 120]]"
      ]
     },
     "execution_count": 474,
     "metadata": {},
     "output_type": "execute_result"
    }
   ],
   "source": [
    "dados.FAIXA_IDADES"
   ]
  },
  {
   "cell_type": "code",
   "execution_count": 475,
   "metadata": {
    "collapsed": false
   },
   "outputs": [
    {
     "data": {
      "text/html": [
       "<div>\n",
       "<table border=\"1\" class=\"dataframe\">\n",
       "  <thead>\n",
       "    <tr style=\"text-align: right;\">\n",
       "      <th></th>\n",
       "      <th>FAIXA_IDADES</th>\n",
       "      <th>IDADE</th>\n",
       "    </tr>\n",
       "  </thead>\n",
       "  <tbody>\n",
       "    <tr>\n",
       "      <th>169</th>\n",
       "      <td>[0, 12]</td>\n",
       "      <td>0</td>\n",
       "    </tr>\n",
       "    <tr>\n",
       "      <th>259</th>\n",
       "      <td>[0, 12]</td>\n",
       "      <td>0</td>\n",
       "    </tr>\n",
       "    <tr>\n",
       "      <th>283</th>\n",
       "      <td>[0, 12]</td>\n",
       "      <td>0</td>\n",
       "    </tr>\n",
       "    <tr>\n",
       "      <th>290</th>\n",
       "      <td>[0, 12]</td>\n",
       "      <td>0</td>\n",
       "    </tr>\n",
       "    <tr>\n",
       "      <th>324</th>\n",
       "      <td>[0, 12]</td>\n",
       "      <td>0</td>\n",
       "    </tr>\n",
       "    <tr>\n",
       "      <th>401</th>\n",
       "      <td>[0, 12]</td>\n",
       "      <td>0</td>\n",
       "    </tr>\n",
       "    <tr>\n",
       "      <th>455</th>\n",
       "      <td>[0, 12]</td>\n",
       "      <td>0</td>\n",
       "    </tr>\n",
       "    <tr>\n",
       "      <th>592</th>\n",
       "      <td>[0, 12]</td>\n",
       "      <td>0</td>\n",
       "    </tr>\n",
       "    <tr>\n",
       "      <th>645</th>\n",
       "      <td>[0, 12]</td>\n",
       "      <td>0</td>\n",
       "    </tr>\n",
       "    <tr>\n",
       "      <th>682</th>\n",
       "      <td>[0, 12]</td>\n",
       "      <td>0</td>\n",
       "    </tr>\n",
       "    <tr>\n",
       "      <th>769</th>\n",
       "      <td>[0, 12]</td>\n",
       "      <td>0</td>\n",
       "    </tr>\n",
       "    <tr>\n",
       "      <th>792</th>\n",
       "      <td>[0, 12]</td>\n",
       "      <td>0</td>\n",
       "    </tr>\n",
       "    <tr>\n",
       "      <th>807</th>\n",
       "      <td>[0, 12]</td>\n",
       "      <td>0</td>\n",
       "    </tr>\n",
       "    <tr>\n",
       "      <th>938</th>\n",
       "      <td>[0, 12]</td>\n",
       "      <td>0</td>\n",
       "    </tr>\n",
       "    <tr>\n",
       "      <th>1044</th>\n",
       "      <td>[0, 12]</td>\n",
       "      <td>0</td>\n",
       "    </tr>\n",
       "    <tr>\n",
       "      <th>1049</th>\n",
       "      <td>[0, 12]</td>\n",
       "      <td>0</td>\n",
       "    </tr>\n",
       "    <tr>\n",
       "      <th>1073</th>\n",
       "      <td>[0, 12]</td>\n",
       "      <td>0</td>\n",
       "    </tr>\n",
       "    <tr>\n",
       "      <th>1172</th>\n",
       "      <td>[0, 12]</td>\n",
       "      <td>0</td>\n",
       "    </tr>\n",
       "    <tr>\n",
       "      <th>1191</th>\n",
       "      <td>[0, 12]</td>\n",
       "      <td>0</td>\n",
       "    </tr>\n",
       "    <tr>\n",
       "      <th>1414</th>\n",
       "      <td>[0, 12]</td>\n",
       "      <td>0</td>\n",
       "    </tr>\n",
       "    <tr>\n",
       "      <th>1487</th>\n",
       "      <td>[0, 12]</td>\n",
       "      <td>0</td>\n",
       "    </tr>\n",
       "    <tr>\n",
       "      <th>1576</th>\n",
       "      <td>[0, 12]</td>\n",
       "      <td>0</td>\n",
       "    </tr>\n",
       "    <tr>\n",
       "      <th>1704</th>\n",
       "      <td>[0, 12]</td>\n",
       "      <td>0</td>\n",
       "    </tr>\n",
       "    <tr>\n",
       "      <th>1774</th>\n",
       "      <td>[0, 12]</td>\n",
       "      <td>0</td>\n",
       "    </tr>\n",
       "    <tr>\n",
       "      <th>1787</th>\n",
       "      <td>[0, 12]</td>\n",
       "      <td>0</td>\n",
       "    </tr>\n",
       "    <tr>\n",
       "      <th>1990</th>\n",
       "      <td>[0, 12]</td>\n",
       "      <td>0</td>\n",
       "    </tr>\n",
       "    <tr>\n",
       "      <th>2073</th>\n",
       "      <td>[0, 12]</td>\n",
       "      <td>0</td>\n",
       "    </tr>\n",
       "    <tr>\n",
       "      <th>2121</th>\n",
       "      <td>[0, 12]</td>\n",
       "      <td>0</td>\n",
       "    </tr>\n",
       "    <tr>\n",
       "      <th>2131</th>\n",
       "      <td>[0, 12]</td>\n",
       "      <td>0</td>\n",
       "    </tr>\n",
       "    <tr>\n",
       "      <th>2179</th>\n",
       "      <td>[0, 12]</td>\n",
       "      <td>0</td>\n",
       "    </tr>\n",
       "    <tr>\n",
       "      <th>...</th>\n",
       "      <td>...</td>\n",
       "      <td>...</td>\n",
       "    </tr>\n",
       "    <tr>\n",
       "      <th>247876</th>\n",
       "      <td>(96, 108]</td>\n",
       "      <td>101</td>\n",
       "    </tr>\n",
       "    <tr>\n",
       "      <th>251945</th>\n",
       "      <td>(96, 108]</td>\n",
       "      <td>101</td>\n",
       "    </tr>\n",
       "    <tr>\n",
       "      <th>254776</th>\n",
       "      <td>(96, 108]</td>\n",
       "      <td>101</td>\n",
       "    </tr>\n",
       "    <tr>\n",
       "      <th>311306</th>\n",
       "      <td>(96, 108]</td>\n",
       "      <td>101</td>\n",
       "    </tr>\n",
       "    <tr>\n",
       "      <th>98480</th>\n",
       "      <td>(96, 108]</td>\n",
       "      <td>102</td>\n",
       "    </tr>\n",
       "    <tr>\n",
       "      <th>124727</th>\n",
       "      <td>(96, 108]</td>\n",
       "      <td>102</td>\n",
       "    </tr>\n",
       "    <tr>\n",
       "      <th>164281</th>\n",
       "      <td>(96, 108]</td>\n",
       "      <td>102</td>\n",
       "    </tr>\n",
       "    <tr>\n",
       "      <th>181276</th>\n",
       "      <td>(96, 108]</td>\n",
       "      <td>102</td>\n",
       "    </tr>\n",
       "    <tr>\n",
       "      <th>188473</th>\n",
       "      <td>(96, 108]</td>\n",
       "      <td>102</td>\n",
       "    </tr>\n",
       "    <tr>\n",
       "      <th>356987</th>\n",
       "      <td>(96, 108]</td>\n",
       "      <td>102</td>\n",
       "    </tr>\n",
       "    <tr>\n",
       "      <th>50690</th>\n",
       "      <td>(96, 108]</td>\n",
       "      <td>103</td>\n",
       "    </tr>\n",
       "    <tr>\n",
       "      <th>63344</th>\n",
       "      <td>(96, 108]</td>\n",
       "      <td>103</td>\n",
       "    </tr>\n",
       "    <tr>\n",
       "      <th>63527</th>\n",
       "      <td>(96, 108]</td>\n",
       "      <td>103</td>\n",
       "    </tr>\n",
       "    <tr>\n",
       "      <th>66144</th>\n",
       "      <td>(96, 108]</td>\n",
       "      <td>103</td>\n",
       "    </tr>\n",
       "    <tr>\n",
       "      <th>98390</th>\n",
       "      <td>(96, 108]</td>\n",
       "      <td>103</td>\n",
       "    </tr>\n",
       "    <tr>\n",
       "      <th>100699</th>\n",
       "      <td>(96, 108]</td>\n",
       "      <td>103</td>\n",
       "    </tr>\n",
       "    <tr>\n",
       "      <th>118326</th>\n",
       "      <td>(96, 108]</td>\n",
       "      <td>103</td>\n",
       "    </tr>\n",
       "    <tr>\n",
       "      <th>135408</th>\n",
       "      <td>(96, 108]</td>\n",
       "      <td>103</td>\n",
       "    </tr>\n",
       "    <tr>\n",
       "      <th>145433</th>\n",
       "      <td>(96, 108]</td>\n",
       "      <td>103</td>\n",
       "    </tr>\n",
       "    <tr>\n",
       "      <th>271364</th>\n",
       "      <td>(96, 108]</td>\n",
       "      <td>103</td>\n",
       "    </tr>\n",
       "    <tr>\n",
       "      <th>36262</th>\n",
       "      <td>(96, 108]</td>\n",
       "      <td>104</td>\n",
       "    </tr>\n",
       "    <tr>\n",
       "      <th>176221</th>\n",
       "      <td>(96, 108]</td>\n",
       "      <td>104</td>\n",
       "    </tr>\n",
       "    <tr>\n",
       "      <th>313316</th>\n",
       "      <td>(96, 108]</td>\n",
       "      <td>104</td>\n",
       "    </tr>\n",
       "    <tr>\n",
       "      <th>22150</th>\n",
       "      <td>(96, 108]</td>\n",
       "      <td>105</td>\n",
       "    </tr>\n",
       "    <tr>\n",
       "      <th>77657</th>\n",
       "      <td>(96, 108]</td>\n",
       "      <td>105</td>\n",
       "    </tr>\n",
       "    <tr>\n",
       "      <th>147514</th>\n",
       "      <td>(96, 108]</td>\n",
       "      <td>105</td>\n",
       "    </tr>\n",
       "    <tr>\n",
       "      <th>228646</th>\n",
       "      <td>(96, 108]</td>\n",
       "      <td>105</td>\n",
       "    </tr>\n",
       "    <tr>\n",
       "      <th>109643</th>\n",
       "      <td>(96, 108]</td>\n",
       "      <td>106</td>\n",
       "    </tr>\n",
       "    <tr>\n",
       "      <th>234354</th>\n",
       "      <td>(96, 108]</td>\n",
       "      <td>107</td>\n",
       "    </tr>\n",
       "    <tr>\n",
       "      <th>30914</th>\n",
       "      <td>(108, 120]</td>\n",
       "      <td>109</td>\n",
       "    </tr>\n",
       "  </tbody>\n",
       "</table>\n",
       "<p>362555 rows × 2 columns</p>\n",
       "</div>"
      ],
      "text/plain": [
       "       FAIXA_IDADES  IDADE\n",
       "169         [0, 12]      0\n",
       "259         [0, 12]      0\n",
       "283         [0, 12]      0\n",
       "290         [0, 12]      0\n",
       "324         [0, 12]      0\n",
       "401         [0, 12]      0\n",
       "455         [0, 12]      0\n",
       "592         [0, 12]      0\n",
       "645         [0, 12]      0\n",
       "682         [0, 12]      0\n",
       "769         [0, 12]      0\n",
       "792         [0, 12]      0\n",
       "807         [0, 12]      0\n",
       "938         [0, 12]      0\n",
       "1044        [0, 12]      0\n",
       "1049        [0, 12]      0\n",
       "1073        [0, 12]      0\n",
       "1172        [0, 12]      0\n",
       "1191        [0, 12]      0\n",
       "1414        [0, 12]      0\n",
       "1487        [0, 12]      0\n",
       "1576        [0, 12]      0\n",
       "1704        [0, 12]      0\n",
       "1774        [0, 12]      0\n",
       "1787        [0, 12]      0\n",
       "1990        [0, 12]      0\n",
       "2073        [0, 12]      0\n",
       "2121        [0, 12]      0\n",
       "2131        [0, 12]      0\n",
       "2179        [0, 12]      0\n",
       "...             ...    ...\n",
       "247876    (96, 108]    101\n",
       "251945    (96, 108]    101\n",
       "254776    (96, 108]    101\n",
       "311306    (96, 108]    101\n",
       "98480     (96, 108]    102\n",
       "124727    (96, 108]    102\n",
       "164281    (96, 108]    102\n",
       "181276    (96, 108]    102\n",
       "188473    (96, 108]    102\n",
       "356987    (96, 108]    102\n",
       "50690     (96, 108]    103\n",
       "63344     (96, 108]    103\n",
       "63527     (96, 108]    103\n",
       "66144     (96, 108]    103\n",
       "98390     (96, 108]    103\n",
       "100699    (96, 108]    103\n",
       "118326    (96, 108]    103\n",
       "135408    (96, 108]    103\n",
       "145433    (96, 108]    103\n",
       "271364    (96, 108]    103\n",
       "36262     (96, 108]    104\n",
       "176221    (96, 108]    104\n",
       "313316    (96, 108]    104\n",
       "22150     (96, 108]    105\n",
       "77657     (96, 108]    105\n",
       "147514    (96, 108]    105\n",
       "228646    (96, 108]    105\n",
       "109643    (96, 108]    106\n",
       "234354    (96, 108]    107\n",
       "30914    (108, 120]    109\n",
       "\n",
       "[362555 rows x 2 columns]"
      ]
     },
     "execution_count": 475,
     "metadata": {},
     "output_type": "execute_result"
    }
   ],
   "source": [
    "dados_ordenados.loc[:, (\"FAIXA_IDADES\", \"IDADE\")] # FAIXA DE IDADES"
   ]
  },
  {
   "cell_type": "code",
   "execution_count": 476,
   "metadata": {
    "collapsed": false
   },
   "outputs": [
    {
     "data": {
      "text/plain": [
       "(12, 24]      74248\n",
       "(24, 36]      69905\n",
       "[0, 12]       69256\n",
       "(36, 48]      59893\n",
       "(48, 60]      47400\n",
       "(60, 72]      26998\n",
       "(72, 84]      12192\n",
       "(84, 96]       2521\n",
       "(96, 108]       141\n",
       "(108, 120]        1\n",
       "dtype: int64"
      ]
     },
     "execution_count": 476,
     "metadata": {},
     "output_type": "execute_result"
    }
   ],
   "source": [
    "dados.FAIXA_IDADES.value_counts()"
   ]
  },
  {
   "cell_type": "code",
   "execution_count": 477,
   "metadata": {
    "collapsed": true
   },
   "outputs": [],
   "source": [
    "dados.rename(columns={\"V6003\":\"EDUCACAO\"}, inplace=True)"
   ]
  },
  {
   "cell_type": "code",
   "execution_count": 478,
   "metadata": {
    "collapsed": true
   },
   "outputs": [],
   "source": [
    "#dados.EDUCACAO = dados.EDUCACAO.astype('category')\n",
    "#dados.EDUCACAO.cat.categories = ('1', '2', '3', '4', '5','6', '7', '8', '9', '10','11')"
   ]
  },
  {
   "cell_type": "code",
   "execution_count": 479,
   "metadata": {
    "collapsed": false
   },
   "outputs": [
    {
     "data": {
      "text/plain": [
       "1        NaN\n",
       "2        NaN\n",
       "3          1\n",
       "4        NaN\n",
       "5          5\n",
       "6          2\n",
       "7        NaN\n",
       "8        NaN\n",
       "9        NaN\n",
       "10       NaN\n",
       "11         9\n",
       "12       NaN\n",
       "13       NaN\n",
       "14         7\n",
       "15       NaN\n",
       "16         5\n",
       "17       NaN\n",
       "18       NaN\n",
       "19       NaN\n",
       "20         2\n",
       "21         2\n",
       "22       NaN\n",
       "23       NaN\n",
       "24       NaN\n",
       "25         1\n",
       "26       NaN\n",
       "27       NaN\n",
       "28         1\n",
       "29       NaN\n",
       "30       NaN\n",
       "          ..\n",
       "362526     1\n",
       "362527   NaN\n",
       "362528   NaN\n",
       "362529     1\n",
       "362530     1\n",
       "362531     1\n",
       "362532   NaN\n",
       "362533   NaN\n",
       "362534   NaN\n",
       "362535     2\n",
       "362536     1\n",
       "362537     2\n",
       "362538   NaN\n",
       "362539   NaN\n",
       "362540   NaN\n",
       "362541   NaN\n",
       "362542     5\n",
       "362543   NaN\n",
       "362544   NaN\n",
       "362545     1\n",
       "362546   NaN\n",
       "362547   NaN\n",
       "362548     9\n",
       "362549     2\n",
       "362550     5\n",
       "362551   NaN\n",
       "362552     1\n",
       "362553   NaN\n",
       "362554   NaN\n",
       "362555     1\n",
       "Name: EDUCACAO, dtype: float64"
      ]
     },
     "execution_count": 479,
     "metadata": {},
     "output_type": "execute_result"
    }
   ],
   "source": [
    "dados.EDUCACAO"
   ]
  },
  {
   "cell_type": "code",
   "execution_count": 480,
   "metadata": {
    "collapsed": false
   },
   "outputs": [
    {
     "data": {
      "text/plain": [
       "1     56285\n",
       "2     16182\n",
       "5     12936\n",
       "7      6515\n",
       "9      6293\n",
       "3      1496\n",
       "8      1073\n",
       "4       997\n",
       "11      708\n",
       "6       435\n",
       "10      224\n",
       "dtype: int64"
      ]
     },
     "execution_count": 480,
     "metadata": {},
     "output_type": "execute_result"
    }
   ],
   "source": [
    "dados.EDUCACAO.value_counts()"
   ]
  },
  {
   "cell_type": "code",
   "execution_count": 481,
   "metadata": {
    "collapsed": false
   },
   "outputs": [],
   "source": [
    "ct = pd.crosstab(dados.FAIXA_IDADES, dados[(dados.EDUCACAO==5)].EDUCACAO)"
   ]
  },
  {
   "cell_type": "code",
   "execution_count": 482,
   "metadata": {
    "collapsed": false,
    "scrolled": true
   },
   "outputs": [
    {
     "data": {
      "text/html": [
       "<div>\n",
       "<table border=\"1\" class=\"dataframe\">\n",
       "  <thead>\n",
       "    <tr style=\"text-align: right;\">\n",
       "      <th>EDUCACAO</th>\n",
       "      <th>5.0</th>\n",
       "    </tr>\n",
       "    <tr>\n",
       "      <th>FAIXA_IDADES</th>\n",
       "      <th></th>\n",
       "    </tr>\n",
       "  </thead>\n",
       "  <tbody>\n",
       "    <tr>\n",
       "      <th>[0, 12]</th>\n",
       "      <td>0</td>\n",
       "    </tr>\n",
       "    <tr>\n",
       "      <th>(12, 24]</th>\n",
       "      <td>7069</td>\n",
       "    </tr>\n",
       "    <tr>\n",
       "      <th>(24, 36]</th>\n",
       "      <td>4245</td>\n",
       "    </tr>\n",
       "    <tr>\n",
       "      <th>(36, 48]</th>\n",
       "      <td>1298</td>\n",
       "    </tr>\n",
       "    <tr>\n",
       "      <th>(48, 60]</th>\n",
       "      <td>295</td>\n",
       "    </tr>\n",
       "    <tr>\n",
       "      <th>(60, 72]</th>\n",
       "      <td>22</td>\n",
       "    </tr>\n",
       "    <tr>\n",
       "      <th>(72, 84]</th>\n",
       "      <td>7</td>\n",
       "    </tr>\n",
       "    <tr>\n",
       "      <th>(84, 96]</th>\n",
       "      <td>0</td>\n",
       "    </tr>\n",
       "    <tr>\n",
       "      <th>(96, 108]</th>\n",
       "      <td>0</td>\n",
       "    </tr>\n",
       "    <tr>\n",
       "      <th>(108, 120]</th>\n",
       "      <td>0</td>\n",
       "    </tr>\n",
       "  </tbody>\n",
       "</table>\n",
       "</div>"
      ],
      "text/plain": [
       "EDUCACAO         5\n",
       "FAIXA_IDADES      \n",
       "[0, 12]          0\n",
       "(12, 24]      7069\n",
       "(24, 36]      4245\n",
       "(36, 48]      1298\n",
       "(48, 60]       295\n",
       "(60, 72]        22\n",
       "(72, 84]         7\n",
       "(84, 96]         0\n",
       "(96, 108]        0\n",
       "(108, 120]       0"
      ]
     },
     "execution_count": 482,
     "metadata": {},
     "output_type": "execute_result"
    }
   ],
   "source": [
    "ct"
   ]
  },
  {
   "cell_type": "code",
   "execution_count": 483,
   "metadata": {
    "collapsed": false
   },
   "outputs": [],
   "source": [
    "divide = ct.sum().sum()\n",
    "porcentagem = ct*100/divide"
   ]
  },
  {
   "cell_type": "raw",
   "metadata": {},
   "source": [
    "GERANDO GRÁFICOS"
   ]
  },
  {
   "cell_type": "code",
   "execution_count": 484,
   "metadata": {
    "collapsed": true
   },
   "outputs": [],
   "source": [
    "%matplotlib inline\n",
    "import matplotlib.pyplot as plt\n",
    "import matplotlib\n",
    "matplotlib.style.use('ggplot')"
   ]
  },
  {
   "cell_type": "code",
   "execution_count": 485,
   "metadata": {
    "collapsed": false
   },
   "outputs": [
    {
     "data": {
      "text/plain": [
       "<matplotlib.axes._subplots.AxesSubplot at 0x2bdf3128>"
      ]
     },
     "execution_count": 485,
     "metadata": {},
     "output_type": "execute_result"
    },
    {
     "data": {
      "image/png": "[encoded data removed]",
      "text/plain": [
       "<matplotlib.figure.Figure at 0x2bdac4e0>"
      ]
     },
     "metadata": {},
     "output_type": "display_data"
    }
   ],
   "source": [
    "pd.DataFrame.plot(kind='bar', data=porcentagem, color=('salmon'), legend=False, title = 'Estudantes universitários por idades - Porcentagem por idade (anos)')"
   ]
  },
  {
   "cell_type": "code",
   "execution_count": 486,
   "metadata": {
    "collapsed": false
   },
   "outputs": [
    {
     "data": {
      "text/plain": [
       "1          Feminino\n",
       "2          Feminino\n",
       "3          Feminino\n",
       "4         Masculino\n",
       "5          Feminino\n",
       "6          Feminino\n",
       "7         Masculino\n",
       "8          Feminino\n",
       "9         Masculino\n",
       "10         Feminino\n",
       "11         Feminino\n",
       "12        Masculino\n",
       "13         Feminino\n",
       "14        Masculino\n",
       "15         Feminino\n",
       "16         Feminino\n",
       "17        Masculino\n",
       "18        Masculino\n",
       "19         Feminino\n",
       "20        Masculino\n",
       "21        Masculino\n",
       "22        Masculino\n",
       "23        Masculino\n",
       "24         Feminino\n",
       "25        Masculino\n",
       "26        Masculino\n",
       "27        Masculino\n",
       "28        Masculino\n",
       "29         Feminino\n",
       "30        Masculino\n",
       "            ...    \n",
       "362526    Masculino\n",
       "362527     Feminino\n",
       "362528    Masculino\n",
       "362529    Masculino\n",
       "362530     Feminino\n",
       "362531    Masculino\n",
       "362532    Masculino\n",
       "362533     Feminino\n",
       "362534    Masculino\n",
       "362535     Feminino\n",
       "362536     Feminino\n",
       "362537     Feminino\n",
       "362538    Masculino\n",
       "362539    Masculino\n",
       "362540     Feminino\n",
       "362541    Masculino\n",
       "362542     Feminino\n",
       "362543     Feminino\n",
       "362544    Masculino\n",
       "362545     Feminino\n",
       "362546    Masculino\n",
       "362547     Feminino\n",
       "362548    Masculino\n",
       "362549    Masculino\n",
       "362550     Feminino\n",
       "362551    Masculino\n",
       "362552    Masculino\n",
       "362553    Masculino\n",
       "362554     Feminino\n",
       "362555     Feminino\n",
       "Name: SEXO, dtype: category\n",
       "Categories (2, object): [Masculino, Feminino]"
      ]
     },
     "execution_count": 486,
     "metadata": {},
     "output_type": "execute_result"
    }
   ],
   "source": [
    "dados.rename(columns={\"V0302\":\"SEXO\"}, inplace=True)\n",
    "dados.SEXO = dados.SEXO.astype('category')\n",
    "dados.SEXO.cat.categories = ('Masculino','Feminino')\n",
    "dados.SEXO\n"
   ]
  },
  {
   "cell_type": "code",
   "execution_count": 487,
   "metadata": {
    "collapsed": false
   },
   "outputs": [
    {
     "data": {
      "text/html": [
       "<div>\n",
       "<table border=\"1\" class=\"dataframe\">\n",
       "  <thead>\n",
       "    <tr style=\"text-align: right;\">\n",
       "      <th>EDUCACAO</th>\n",
       "      <th>5.0</th>\n",
       "    </tr>\n",
       "    <tr>\n",
       "      <th>SEXO</th>\n",
       "      <th></th>\n",
       "    </tr>\n",
       "  </thead>\n",
       "  <tbody>\n",
       "    <tr>\n",
       "      <th>Masculino</th>\n",
       "      <td>42.617502</td>\n",
       "    </tr>\n",
       "    <tr>\n",
       "      <th>Feminino</th>\n",
       "      <td>57.382498</td>\n",
       "    </tr>\n",
       "  </tbody>\n",
       "</table>\n",
       "</div>"
      ],
      "text/plain": [
       "EDUCACAO           5\n",
       "SEXO                \n",
       "Masculino  42.617502\n",
       "Feminino   57.382498"
      ]
     },
     "execution_count": 487,
     "metadata": {},
     "output_type": "execute_result"
    }
   ],
   "source": [
    "su = pd.crosstab(dados.SEXO, dados[(dados.EDUCACAO==5)].EDUCACAO)  # su = Sexo dos universitários\n",
    "divide_sexo = su.sum().sum()\n",
    "porcentagem_sexo = su*100/divide_sexo\n",
    "porcentagem_sexo"
   ]
  },
  {
   "cell_type": "code",
   "execution_count": 488,
   "metadata": {
    "collapsed": false
   },
   "outputs": [
    {
     "data": {
      "text/plain": [
       "<matplotlib.axes._subplots.AxesSubplot at 0x2be0e630>"
      ]
     },
     "execution_count": 488,
     "metadata": {},
     "output_type": "execute_result"
    },
    {
     "data": {
      "image/png": "[encoded data removed]",
      "text/plain": [
       "<matplotlib.figure.Figure at 0x2be01be0>"
      ]
     },
     "metadata": {},
     "output_type": "display_data"
    }
   ],
   "source": [
    "pd.DataFrame.plot(kind='bar', data=porcentagem_sexo, color=('green'), legend=False, title = 'Estudantes universitários por sexo')"
   ]
  },
  {
   "cell_type": "code",
   "execution_count": 489,
   "metadata": {
    "collapsed": false
   },
   "outputs": [
    {
     "data": {
      "text/plain": [
       "1         Branco\n",
       "2          Pardo\n",
       "3          Negro\n",
       "4          Pardo\n",
       "5          Pardo\n",
       "6          Pardo\n",
       "7          Negro\n",
       "8         Branco\n",
       "9          Pardo\n",
       "10        Branco\n",
       "11        Branco\n",
       "12        Branco\n",
       "13        Branco\n",
       "14        Branco\n",
       "15        Branco\n",
       "16        Branco\n",
       "17        Branco\n",
       "18        Branco\n",
       "19        Branco\n",
       "20        Branco\n",
       "21        Branco\n",
       "22        Branco\n",
       "23         Pardo\n",
       "24         Negro\n",
       "25         Negro\n",
       "26        Branco\n",
       "27        Branco\n",
       "28         Pardo\n",
       "29        Branco\n",
       "30         Pardo\n",
       "           ...  \n",
       "362526     Negro\n",
       "362527    Branco\n",
       "362528    Branco\n",
       "362529    Branco\n",
       "362530    Branco\n",
       "362531    Branco\n",
       "362532     Pardo\n",
       "362533     Pardo\n",
       "362534     Pardo\n",
       "362535     Pardo\n",
       "362536     Pardo\n",
       "362537     Pardo\n",
       "362538     Pardo\n",
       "362539    Branco\n",
       "362540    Branco\n",
       "362541    Branco\n",
       "362542     Pardo\n",
       "362543    Branco\n",
       "362544    Branco\n",
       "362545    Branco\n",
       "362546    Branco\n",
       "362547     Pardo\n",
       "362548     Pardo\n",
       "362549     Negro\n",
       "362550    Branco\n",
       "362551     Negro\n",
       "362552    Branco\n",
       "362553     Pardo\n",
       "362554     Pardo\n",
       "362555     Pardo\n",
       "Name: COR, dtype: category\n",
       "Categories (6, object): [Indígeno, Branco, Negro, Amarelo, Pardo, Não declarado]"
      ]
     },
     "execution_count": 489,
     "metadata": {},
     "output_type": "execute_result"
    }
   ],
   "source": [
    "dados.rename(columns={\"V0404\":\"COR\"}, inplace=True)\n",
    "dados.COR = dados.COR.astype('category')\n",
    "dados.COR.cat.categories = ('Indígeno','Branco','Negro','Amarelo','Pardo', 'Não declarado')\n",
    "dados.COR"
   ]
  },
  {
   "cell_type": "code",
   "execution_count": 490,
   "metadata": {
    "collapsed": false
   },
   "outputs": [
    {
     "data": {
      "text/html": [
       "<div>\n",
       "<table border=\"1\" class=\"dataframe\">\n",
       "  <thead>\n",
       "    <tr style=\"text-align: right;\">\n",
       "      <th>EDUCACAO</th>\n",
       "      <th>5.0</th>\n",
       "    </tr>\n",
       "    <tr>\n",
       "      <th>COR</th>\n",
       "      <th></th>\n",
       "    </tr>\n",
       "  </thead>\n",
       "  <tbody>\n",
       "    <tr>\n",
       "      <th>Indígeno</th>\n",
       "      <td>0.286024</td>\n",
       "    </tr>\n",
       "    <tr>\n",
       "      <th>Branco</th>\n",
       "      <td>54.158936</td>\n",
       "    </tr>\n",
       "    <tr>\n",
       "      <th>Negro</th>\n",
       "      <td>6.779530</td>\n",
       "    </tr>\n",
       "    <tr>\n",
       "      <th>Amarelo</th>\n",
       "      <td>0.633890</td>\n",
       "    </tr>\n",
       "    <tr>\n",
       "      <th>Pardo</th>\n",
       "      <td>38.141620</td>\n",
       "    </tr>\n",
       "    <tr>\n",
       "      <th>Não declarado</th>\n",
       "      <td>0.000000</td>\n",
       "    </tr>\n",
       "  </tbody>\n",
       "</table>\n",
       "</div>"
      ],
      "text/plain": [
       "EDUCACAO               5\n",
       "COR                     \n",
       "Indígeno        0.286024\n",
       "Branco         54.158936\n",
       "Negro           6.779530\n",
       "Amarelo         0.633890\n",
       "Pardo          38.141620\n",
       "Não declarado   0.000000"
      ]
     },
     "execution_count": 490,
     "metadata": {},
     "output_type": "execute_result"
    }
   ],
   "source": [
    "cu = pd.crosstab(dados.COR, dados[(dados.EDUCACAO==5)].EDUCACAO)  # cu = Cor dos universitários\n",
    "divide_cor = cu.sum().sum()\n",
    "porcentagem_cor = cu*100/divide_cor\n",
    "porcentagem_cor"
   ]
  },
  {
   "cell_type": "code",
   "execution_count": 491,
   "metadata": {
    "collapsed": false
   },
   "outputs": [
    {
     "data": {
      "text/plain": [
       "<matplotlib.axes._subplots.AxesSubplot at 0x2bfc6400>"
      ]
     },
     "execution_count": 491,
     "metadata": {},
     "output_type": "execute_result"
    },
    {
     "data": {
      "image/png": "[encoded data removed]",
      "text/plain": [
       "<matplotlib.figure.Figure at 0x2bfcbc18>"
      ]
     },
     "metadata": {},
     "output_type": "display_data"
    }
   ],
   "source": [
    "pd.DataFrame.plot(kind='bar', data=porcentagem_cor, color=('black'), legend=False, title = 'Estudantes universitários por cor/raça')"
   ]
  },
  {
   "cell_type": "code",
   "execution_count": 492,
   "metadata": {
    "collapsed": false
   },
   "outputs": [
    {
     "data": {
      "text/plain": [
       "40 a 44 horas       78612\n",
       "15 a 39 horas       35544\n",
       "49 horas ou mais    24013\n",
       "45 a 48 horas       23778\n",
       "Até 14 horas        10383\n",
       "dtype: int64"
      ]
     },
     "execution_count": 492,
     "metadata": {},
     "output_type": "execute_result"
    }
   ],
   "source": [
    "dados.rename(columns={\"V4707\":\"TRABALHO\"}, inplace=True)\n",
    "dados.TRABALHO = dados.TRABALHO.astype('category')\n",
    "dados.TRABALHO.cat.categories = ('Até 14 horas','15 a 39 horas','40 a 44 horas','45 a 48 horas','49 horas ou mais')\n",
    "dados.TRABALHO.value_counts()"
   ]
  },
  {
   "cell_type": "code",
   "execution_count": 493,
   "metadata": {
    "collapsed": false
   },
   "outputs": [
    {
     "data": {
      "text/html": [
       "<div>\n",
       "<table border=\"1\" class=\"dataframe\">\n",
       "  <thead>\n",
       "    <tr style=\"text-align: right;\">\n",
       "      <th>EDUCACAO</th>\n",
       "      <th>5.0</th>\n",
       "    </tr>\n",
       "    <tr>\n",
       "      <th>TRABALHO</th>\n",
       "      <th></th>\n",
       "    </tr>\n",
       "  </thead>\n",
       "  <tbody>\n",
       "    <tr>\n",
       "      <th>Até 14 horas</th>\n",
       "      <td>4.337464</td>\n",
       "    </tr>\n",
       "    <tr>\n",
       "      <th>15 a 39 horas</th>\n",
       "      <td>28.181602</td>\n",
       "    </tr>\n",
       "    <tr>\n",
       "      <th>40 a 44 horas</th>\n",
       "      <td>52.716873</td>\n",
       "    </tr>\n",
       "    <tr>\n",
       "      <th>45 a 48 horas</th>\n",
       "      <td>8.460439</td>\n",
       "    </tr>\n",
       "    <tr>\n",
       "      <th>49 horas ou mais</th>\n",
       "      <td>6.303622</td>\n",
       "    </tr>\n",
       "  </tbody>\n",
       "</table>\n",
       "</div>"
      ],
      "text/plain": [
       "EDUCACAO                  5\n",
       "TRABALHO                   \n",
       "Até 14 horas       4.337464\n",
       "15 a 39 horas     28.181602\n",
       "40 a 44 horas     52.716873\n",
       "45 a 48 horas      8.460439\n",
       "49 horas ou mais   6.303622"
      ]
     },
     "execution_count": 493,
     "metadata": {},
     "output_type": "execute_result"
    }
   ],
   "source": [
    "tu = pd.crosstab(dados.TRABALHO, dados[(dados.EDUCACAO==5)].EDUCACAO)  # tu = Jornada de trabalho dos universitários\n",
    "divide_trab = tu.sum().sum()\n",
    "porcentagem_trab= tu*100/divide_trab\n",
    "porcentagem_trab"
   ]
  },
  {
   "cell_type": "code",
   "execution_count": 494,
   "metadata": {
    "collapsed": false
   },
   "outputs": [
    {
     "data": {
      "text/plain": [
       "<matplotlib.axes._subplots.AxesSubplot at 0x2c15fa20>"
      ]
     },
     "execution_count": 494,
     "metadata": {},
     "output_type": "execute_result"
    },
    {
     "data": {
      "image/png": "[encoded data removed]",
      "text/plain": [
       "<matplotlib.figure.Figure at 0x2c478470>"
      ]
     },
     "metadata": {},
     "output_type": "display_data"
    }
   ],
   "source": [
    "pd.DataFrame.plot(kind='bar', data=porcentagem_trab, color=('purple'), legend=False, title = 'Jornada de trabalho dos universitários que trabalham')"
   ]
  },
  {
   "cell_type": "code",
   "execution_count": null,
   "metadata": {
    "collapsed": true
   },
   "outputs": [],
   "source": []
  }
 ],
 "metadata": {
  "kernelspec": {
   "display_name": "Python 3",
   "language": "python",
   "name": "python3"
  },
  "language_info": {
   "codemirror_mode": {
    "name": "ipython",
    "version": 3
   },
   "file_extension": ".py",
   "mimetype": "text/x-python",
   "name": "python",
   "nbconvert_exporter": "python",
   "pygments_lexer": "ipython3",
   "version": "3.4.3"
  }
 },
 "nbformat": 4,
 "nbformat_minor": 0
}
